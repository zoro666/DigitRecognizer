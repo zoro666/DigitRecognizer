{
 "cells": [
  {
   "cell_type": "code",
   "execution_count": 1,
   "metadata": {},
   "outputs": [],
   "source": [
    "import numpy as np\n",
    "import pandas as pd\n",
    "import matplotlib.pyplot as plt\n",
    "import os\n",
    "from sklearn.utils import shuffle\n",
    "import glob\n",
    "import tensorflow as tf\n",
    "from tensorflow.keras import layers, models, optimizers"
   ]
  },
  {
   "cell_type": "code",
   "execution_count": 2,
   "metadata": {},
   "outputs": [],
   "source": [
    "pd.set_option('display.max_rows', 1000)\n",
    "pd.set_option('display.max_columns', 1000)\n"
   ]
  },
  {
   "cell_type": "markdown",
   "metadata": {},
   "source": [
    "Read numpy files"
   ]
  },
  {
   "cell_type": "code",
   "execution_count": 3,
   "metadata": {},
   "outputs": [],
   "source": [
    "# Get the paths where all the files are stored\n",
    "current_path = os.getcwd()\n",
    "data_path = current_path + '/Data'"
   ]
  },
  {
   "cell_type": "code",
   "execution_count": 4,
   "metadata": {},
   "outputs": [],
   "source": [
    "# Load data\n",
    "xtrain = np.load(data_path+'/xtrain0.npy')\n",
    "ytrain = np.load(data_path+'/ytrain0.npy')\n",
    "xval = np.load(data_path+'/xval0.npy')\n",
    "yval = np.load(data_path+'/yval0.npy')"
   ]
  },
  {
   "cell_type": "code",
   "execution_count": 5,
   "metadata": {},
   "outputs": [],
   "source": [
    "# Convert labels to categorical columns\n",
    "ylabel_tr = tf.keras.utils.to_categorical(ytrain, 10)\n",
    "ylabel_val = tf.keras.utils.to_categorical(yval, 10)"
   ]
  },
  {
   "cell_type": "code",
   "execution_count": 6,
   "metadata": {},
   "outputs": [],
   "source": [
    "# Expand dims for the training and validation data\n",
    "xtrain = np.expand_dims(xtrain,axis=-1)\n",
    "xval = np.expand_dims(xval,axis=-1)"
   ]
  },
  {
   "cell_type": "code",
   "execution_count": 7,
   "metadata": {},
   "outputs": [
    {
     "data": {
      "text/plain": [
       "((38000, 28, 28, 1), (38000, 10), (4000, 28, 28, 1), (4000, 10))"
      ]
     },
     "execution_count": 7,
     "metadata": {},
     "output_type": "execute_result"
    }
   ],
   "source": [
    "np.shape(xtrain), np.shape(ylabel_tr), np.shape(xval), np.shape(ylabel_val)"
   ]
  },
  {
   "cell_type": "markdown",
   "metadata": {},
   "source": [
    "Create Model for training"
   ]
  },
  {
   "cell_type": "code",
   "execution_count": 8,
   "metadata": {},
   "outputs": [],
   "source": [
    "def build_model(input_shape, kernel_list, learn_rate, output_shape):\n",
    "    \"\"\"\n",
    "    Build a convolutional neural network for image classification\n",
    "    \n",
    "    Input Args:\n",
    "    input shape: Shape of the input image provided. The input shape should be 28x28x1\n",
    "    kernel_list: List of kernel level information. Its a list of list containing per \n",
    "                    level number of kernels and the kernel shape of the model.\n",
    "    learn_rate: Learning rate of the optimizer\n",
    "    output_shape: Shape of the final layer of the model. 10 in our case\n",
    "    \n",
    "    Output Args:\n",
    "    model: Tensorflow model which is compiled\n",
    "    \"\"\"\n",
    "    def conv_block(num_kernels, kernel_shape, stride_shape,input_layer, layer_num):\n",
    "        \"\"\"\n",
    "        Create a convolution block which is a convolution layer followed by activation\n",
    "        \n",
    "        Input Args:\n",
    "        num_kernels: Number of kernels in the convolution layer\n",
    "        kernel_shape: Shape of the kernels in the convolution layer\n",
    "        stride_shape: Shape of the strides in the convolution layer\n",
    "        input_layer: Input layer connected to the block\n",
    "        layer_num: Layer number in the model\n",
    "        \n",
    "        Output Args:\n",
    "        out: Output Layer of the convolution block\n",
    "        \"\"\"\n",
    "        conv = layers.Conv2D(num_kernels, \n",
    "                                 kernel_shape, \n",
    "                                 padding='valid', \n",
    "                                 activation='relu',\n",
    "                                 strides=stride_shape,\n",
    "                                 name = 'conv'+str(layer_num))(input_layer)\n",
    "        bn = layers.BatchNormalization(name = 'batchnorm'+str(layer_num))(conv)\n",
    "        out = layers.MaxPool2D(pool_size=(3, 3), \n",
    "                             strides=(1, 1), \n",
    "                             name='maxpool'+str(layer_num),\n",
    "                             padding='same')(bn)\n",
    "        return out\n",
    "    \n",
    "    # Create convolution block\n",
    "    input_layer = layers.Input(shape=input_shape, name='input_layer')\n",
    "    # Connect input image to the first convolution block\n",
    "    x = conv_block(kernel_list[0][0], kernel_list[0][1], kernel_list[0][2],input_layer, 1)\n",
    "    # Connect rest of the block to each other\n",
    "    for i in range(1, len(kernel_list)):\n",
    "        kernel = kernel_list[i]\n",
    "        x = conv_block(kernel[0], kernel[1], kernel[2],x, i+1)\n",
    "    \n",
    "    # Connect Flatten layers and add output layer\n",
    "    flatten = layers.Flatten(name='flatten')(x)\n",
    "    dense1 = layers.Dense(50, name = 'dense1')(flatten)\n",
    "    out_layer = layers.Dense(output_shape, activation='softmax', name = 'dense2')(dense1)\n",
    "    \n",
    "    # Define input and outputs of the model\n",
    "    model = models.Model(input_layer, out_layer)\n",
    "    \n",
    "    # Compile the model\n",
    "    adam = optimizers.Adam(lr=learn_rate)\n",
    "    model.compile(optimizer=adam,loss='categorical_crossentropy',metrics=['accuracy'])\n",
    "    print(model.summary())\n",
    "    return model"
   ]
  },
  {
   "cell_type": "code",
   "execution_count": 29,
   "metadata": {},
   "outputs": [],
   "source": [
    "# Parameters and hyperparameters of the model\n",
    "output_shape = len(np.unique(ytrain))\n",
    "input_shape = np.shape(xtrain[0,:,:,:])\n",
    "kernel_list = [[16, (3,3), (1,1)],\n",
    "              [32, (3,3), (2,2)],\n",
    "              [32, (3,3), (1,1)],\n",
    "              [64, (3,3), (1,1)],\n",
    "              [64, (3,3), (1,1)]]\n",
    "learn_rate = 5*10**-4\n",
    "num_iterr = 20\n",
    "batch_size = 32"
   ]
  },
  {
   "cell_type": "code",
   "execution_count": 30,
   "metadata": {},
   "outputs": [],
   "source": [
    "def train_model(xtrain, ylabel_tr, xval, ylabel_val, input_shape, kernel_list, learn_rate, output_shape, num_iterr, batch_size=32):\n",
    "    \"\"\"\n",
    "    Function to train model\n",
    "    \n",
    "    Input Args:\n",
    "    xtrain: Input images in numpy format\n",
    "    ylabel_tr: Input image labels\n",
    "    xval: Validation images as numpy format\n",
    "    ylabel_val: Validation image labels\n",
    "    input_shape: Shape of the input image provided. The input shape should be 28x28x1\n",
    "    kernel_list: List of kernel level information. Its a list of list containing per \n",
    "                    level number of kernels and the kernel shape of the model.\n",
    "    learn_rate: Learning rate of the optimizer\n",
    "    output_shape: Shape of the final layer of the model. 10 in our case\n",
    "    num_iterr: Number of epochs for training\n",
    "    batch_size: Number of batches of images per epoch\n",
    "    \n",
    "    Output Args:\n",
    "    model: Trained model\n",
    "    history: Training history\n",
    "    \"\"\"\n",
    "    # Initialize model\n",
    "    model = build_model(input_shape, \n",
    "                        kernel_list, \n",
    "                        learn_rate, \n",
    "                        output_shape)\n",
    "    # train model\n",
    "    history = model.fit(xtrain, \n",
    "                        ylabel_tr, \n",
    "                        epochs=num_iterr, \n",
    "                        validation_data=(xval, ylabel_val),\n",
    "                        batch_size = batch_size)\n",
    "    return model, history"
   ]
  },
  {
   "cell_type": "markdown",
   "metadata": {},
   "source": [
    "Perform model training"
   ]
  },
  {
   "cell_type": "code",
   "execution_count": 31,
   "metadata": {},
   "outputs": [
    {
     "name": "stdout",
     "output_type": "stream",
     "text": [
      "Model: \"model_2\"\n",
      "_________________________________________________________________\n",
      "Layer (type)                 Output Shape              Param #   \n",
      "=================================================================\n",
      "input_layer (InputLayer)     [(None, 28, 28, 1)]       0         \n",
      "_________________________________________________________________\n",
      "conv1 (Conv2D)               (None, 26, 26, 16)        160       \n",
      "_________________________________________________________________\n",
      "batchnorm1 (BatchNormalizati (None, 26, 26, 16)        64        \n",
      "_________________________________________________________________\n",
      "maxpool1 (MaxPooling2D)      (None, 26, 26, 16)        0         \n",
      "_________________________________________________________________\n",
      "conv2 (Conv2D)               (None, 12, 12, 32)        4640      \n",
      "_________________________________________________________________\n",
      "batchnorm2 (BatchNormalizati (None, 12, 12, 32)        128       \n",
      "_________________________________________________________________\n",
      "maxpool2 (MaxPooling2D)      (None, 12, 12, 32)        0         \n",
      "_________________________________________________________________\n",
      "conv3 (Conv2D)               (None, 10, 10, 32)        9248      \n",
      "_________________________________________________________________\n",
      "batchnorm3 (BatchNormalizati (None, 10, 10, 32)        128       \n",
      "_________________________________________________________________\n",
      "maxpool3 (MaxPooling2D)      (None, 10, 10, 32)        0         \n",
      "_________________________________________________________________\n",
      "conv4 (Conv2D)               (None, 8, 8, 64)          18496     \n",
      "_________________________________________________________________\n",
      "batchnorm4 (BatchNormalizati (None, 8, 8, 64)          256       \n",
      "_________________________________________________________________\n",
      "maxpool4 (MaxPooling2D)      (None, 8, 8, 64)          0         \n",
      "_________________________________________________________________\n",
      "conv5 (Conv2D)               (None, 6, 6, 64)          36928     \n",
      "_________________________________________________________________\n",
      "batchnorm5 (BatchNormalizati (None, 6, 6, 64)          256       \n",
      "_________________________________________________________________\n",
      "maxpool5 (MaxPooling2D)      (None, 6, 6, 64)          0         \n",
      "_________________________________________________________________\n",
      "flatten (Flatten)            (None, 2304)              0         \n",
      "_________________________________________________________________\n",
      "dense1 (Dense)               (None, 50)                115250    \n",
      "_________________________________________________________________\n",
      "dense2 (Dense)               (None, 10)                510       \n",
      "=================================================================\n",
      "Total params: 186,064\n",
      "Trainable params: 185,648\n",
      "Non-trainable params: 416\n",
      "_________________________________________________________________\n",
      "None\n",
      "Train on 38000 samples, validate on 4000 samples\n",
      "Epoch 1/20\n",
      "38000/38000 [==============================] - 7s 188us/sample - loss: 0.1959 - accuracy: 0.9480 - val_loss: 0.0638 - val_accuracy: 0.9820\n",
      "Epoch 2/20\n",
      "38000/38000 [==============================] - 7s 171us/sample - loss: 0.0905 - accuracy: 0.9779 - val_loss: 0.0869 - val_accuracy: 0.9762\n",
      "Epoch 3/20\n",
      "38000/38000 [==============================] - 7s 174us/sample - loss: 0.0667 - accuracy: 0.9824 - val_loss: 0.0798 - val_accuracy: 0.9750\n",
      "Epoch 4/20\n",
      "38000/38000 [==============================] - 7s 173us/sample - loss: 0.0607 - accuracy: 0.9852 - val_loss: 0.0834 - val_accuracy: 0.9778\n",
      "Epoch 5/20\n",
      "38000/38000 [==============================] - 6s 169us/sample - loss: 0.0525 - accuracy: 0.9862 - val_loss: 0.0352 - val_accuracy: 0.9895\n",
      "Epoch 6/20\n",
      "38000/38000 [==============================] - 7s 175us/sample - loss: 0.0457 - accuracy: 0.9888 - val_loss: 0.0479 - val_accuracy: 0.9868\n",
      "Epoch 7/20\n",
      "38000/38000 [==============================] - 7s 181us/sample - loss: 0.0403 - accuracy: 0.9895 - val_loss: 0.0469 - val_accuracy: 0.9868\n",
      "Epoch 8/20\n",
      "38000/38000 [==============================] - 6s 171us/sample - loss: 0.0375 - accuracy: 0.9904 - val_loss: 0.0256 - val_accuracy: 0.9915\n",
      "Epoch 9/20\n",
      "38000/38000 [==============================] - 6s 165us/sample - loss: 0.0264 - accuracy: 0.9924 - val_loss: 0.0166 - val_accuracy: 0.9942\n",
      "Epoch 10/20\n",
      "38000/38000 [==============================] - 6s 166us/sample - loss: 0.0266 - accuracy: 0.9930 - val_loss: 0.0269 - val_accuracy: 0.9925\n",
      "Epoch 11/20\n",
      "38000/38000 [==============================] - 6s 167us/sample - loss: 0.0258 - accuracy: 0.9928 - val_loss: 0.0521 - val_accuracy: 0.9865\n",
      "Epoch 12/20\n",
      "38000/38000 [==============================] - 6s 168us/sample - loss: 0.0207 - accuracy: 0.9942 - val_loss: 0.0106 - val_accuracy: 0.9955\n",
      "Epoch 13/20\n",
      "38000/38000 [==============================] - 6s 167us/sample - loss: 0.0196 - accuracy: 0.9941 - val_loss: 0.0242 - val_accuracy: 0.9940\n",
      "Epoch 14/20\n",
      "38000/38000 [==============================] - 6s 167us/sample - loss: 0.0185 - accuracy: 0.9947 - val_loss: 0.0151 - val_accuracy: 0.9948\n",
      "Epoch 15/20\n",
      "38000/38000 [==============================] - 6s 168us/sample - loss: 0.0180 - accuracy: 0.9943 - val_loss: 0.0201 - val_accuracy: 0.9940\n",
      "Epoch 16/20\n",
      "38000/38000 [==============================] - 6s 168us/sample - loss: 0.0143 - accuracy: 0.9957 - val_loss: 0.0063 - val_accuracy: 0.9977\n",
      "Epoch 17/20\n",
      "38000/38000 [==============================] - 6s 169us/sample - loss: 0.0159 - accuracy: 0.9948 - val_loss: 0.0162 - val_accuracy: 0.9958\n",
      "Epoch 18/20\n",
      "38000/38000 [==============================] - 6s 167us/sample - loss: 0.0125 - accuracy: 0.9961 - val_loss: 0.0187 - val_accuracy: 0.9945\n",
      "Epoch 19/20\n",
      "38000/38000 [==============================] - 6s 169us/sample - loss: 0.0144 - accuracy: 0.9957 - val_loss: 0.0029 - val_accuracy: 0.9987\n",
      "Epoch 20/20\n",
      "38000/38000 [==============================] - 6s 169us/sample - loss: 0.0093 - accuracy: 0.9968 - val_loss: 0.0139 - val_accuracy: 0.9960\n"
     ]
    }
   ],
   "source": [
    "model, history = train_model(xtrain, \n",
    "                              ylabel_tr,\n",
    "                              xval, \n",
    "                              ylabel_val, \n",
    "                              input_shape, \n",
    "                            kernel_list, \n",
    "                            learn_rate, \n",
    "                            output_shape,\n",
    "                            num_iterr,\n",
    "                            batch_size)"
   ]
  },
  {
   "cell_type": "code",
   "execution_count": 32,
   "metadata": {},
   "outputs": [
    {
     "data": {
      "image/png": "[encoded data removed]",
      "text/plain": [
       "<Figure size 432x288 with 1 Axes>"
      ]
     },
     "metadata": {
      "needs_background": "light"
     },
     "output_type": "display_data"
    }
   ],
   "source": [
    "plt.plot(history.history['accuracy'], label='accuracy')\n",
    "plt.plot(history.history['val_accuracy'], label='val_accuracy')\n",
    "plt.xlabel('Epoch')\n",
    "plt.ylabel('Accuracy')\n",
    "plt.ylim([0.7, 1])\n",
    "plt.legend(loc='best')\n",
    "plt.show()"
   ]
  },
  {
   "cell_type": "code",
   "execution_count": 33,
   "metadata": {},
   "outputs": [
    {
     "data": {
      "image/png": "[encoded data removed]",
      "text/plain": [
       "<Figure size 432x288 with 1 Axes>"
      ]
     },
     "metadata": {
      "needs_background": "light"
     },
     "output_type": "display_data"
    }
   ],
   "source": [
    "plt.plot(history.history['loss'], label='loss')\n",
    "plt.plot(history.history['val_loss'], label='val_loss')\n",
    "plt.xlabel('Epoch')\n",
    "plt.ylabel('Loss')\n",
    "plt.legend(loc='best')\n",
    "plt.show()"
   ]
  },
  {
   "cell_type": "markdown",
   "metadata": {},
   "source": [
    "Evaluate the model"
   ]
  },
  {
   "cell_type": "code",
   "execution_count": 34,
   "metadata": {},
   "outputs": [
    {
     "name": "stdout",
     "output_type": "stream",
     "text": [
      "4000/4000 - 0s - loss: 0.0139 - accuracy: 0.9960\n",
      "\n",
      "Test accuracy = 99.60%\n"
     ]
    }
   ],
   "source": [
    "test_loss, test_accuracy = model.evaluate(xval,  ylabel_val, verbose=2)\n",
    "\n",
    "print('\\nTest accuracy = {0:.2f}%'.format(test_accuracy*100.0))"
   ]
  },
  {
   "cell_type": "markdown",
   "metadata": {},
   "source": [
    "Save the model"
   ]
  },
  {
   "cell_type": "code",
   "execution_count": 35,
   "metadata": {},
   "outputs": [],
   "source": [
    "# Check if save path exists, if not then create one\n",
    "save_path = current_path + '/model' \n",
    "if not os.path.isdir(save_path):\n",
    "    os.makedirs(save_path)"
   ]
  },
  {
   "cell_type": "code",
   "execution_count": 36,
   "metadata": {},
   "outputs": [],
   "source": [
    "# Save model if the accuracy is greater than 99.875\n",
    "if round(test_accuracy*100.0,3) > 99.875:\n",
    "    filename = save_path + '/model' + str(round(test_accuracy*100.0,3))\n",
    "    model_json = model.to_json()\n",
    "    with open(filename + '.json', \"w\") as json_file:\n",
    "        json_file.write(model_json)\n",
    "\n",
    "    # Save weights of the model\n",
    "    model.save_weights(filename+'.h5')"
   ]
  },
  {
   "cell_type": "code",
   "execution_count": null,
   "metadata": {},
   "outputs": [],
   "source": []
  }
 ],
 "metadata": {
  "kernelspec": {
   "display_name": "tf_gpu",
   "language": "python",
   "name": "tf_gpu"
  },
  "language_info": {
   "codemirror_mode": {
    "name": "ipython",
    "version": 3
   },
   "file_extension": ".py",
   "mimetype": "text/x-python",
   "name": "python",
   "nbconvert_exporter": "python",
   "pygments_lexer": "ipython3",
   "version": "3.7.6"
  }
 },
 "nbformat": 4,
 "nbformat_minor": 4
}
