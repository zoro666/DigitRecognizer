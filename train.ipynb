{
 "cells": [
  {
   "cell_type": "code",
   "execution_count": 1,
   "metadata": {},
   "outputs": [],
   "source": [
    "import numpy as np\n",
    "import pandas as pd\n",
    "import matplotlib.pyplot as plt\n",
    "import os\n",
    "from sklearn.utils import shuffle\n",
    "import glob\n",
    "import tensorflow as tf\n",
    "from tensorflow.keras import layers, models, optimizers"
   ]
  },
  {
   "cell_type": "code",
   "execution_count": 2,
   "metadata": {},
   "outputs": [],
   "source": [
    "pd.set_option('display.max_rows', 1000)\n",
    "pd.set_option('display.max_columns', 1000)\n"
   ]
  },
  {
   "cell_type": "markdown",
   "metadata": {},
   "source": [
    "Read numpy files"
   ]
  },
  {
   "cell_type": "code",
   "execution_count": 3,
   "metadata": {},
   "outputs": [],
   "source": [
    "# Get the paths where all the files are stored\n",
    "current_path = os.getcwd()\n",
    "data_path = current_path + '/Data'"
   ]
  },
  {
   "cell_type": "code",
   "execution_count": 4,
   "metadata": {},
   "outputs": [],
   "source": [
    "# Load data\n",
    "xtrain = np.load(data_path+'/xtrain0.npy')\n",
    "ytrain = np.load(data_path+'/ytrain0.npy')\n",
    "xval = np.load(data_path+'/xval0.npy')\n",
    "yval = np.load(data_path+'/yval0.npy')"
   ]
  },
  {
   "cell_type": "code",
   "execution_count": 5,
   "metadata": {},
   "outputs": [],
   "source": [
    "# Convert labels to categorical columns\n",
    "ylabel_tr = tf.keras.utils.to_categorical(ytrain, 10)\n",
    "ylabel_val = tf.keras.utils.to_categorical(yval, 10)\n",
    "# Expand dims for the training and validation data\n",
    "xtrain = np.expand_dims(xtrain,axis=-1)\n",
    "xval = np.expand_dims(xval,axis=-1)"
   ]
  },
  {
   "cell_type": "code",
   "execution_count": 8,
   "metadata": {},
   "outputs": [
    {
     "data": {
      "text/plain": [
       "((38000, 28, 28, 1), (38000, 10), (4000, 28, 28, 1), (4000, 10))"
      ]
     },
     "execution_count": 8,
     "metadata": {},
     "output_type": "execute_result"
    }
   ],
   "source": [
    "np.shape(xtrain), np.shape(ylabel_tr), np.shape(xval), np.shape(ylabel_val)"
   ]
  },
  {
   "cell_type": "code",
   "execution_count": 7,
   "metadata": {},
   "outputs": [
    {
     "name": "stdout",
     "output_type": "stream",
     "text": [
      "shape of whole datasets (42000, 28, 28, 1) (42000, 10)\n"
     ]
    }
   ],
   "source": [
    "# Load the whole dataset\n",
    "xtrain_wh = np.load(data_path+'/xtrain.npy')\n",
    "ytrain_wh = np.load(data_path+'/ytrain.npy')\n",
    "# Expand dims for the training and validation data\n",
    "xtrain_wh = np.expand_dims(xtrain_wh,axis=-1)\n",
    "# Convert labels to categorical columns\n",
    "ytrain_wh = tf.keras.utils.to_categorical(ytrain_wh, 10)\n",
    "print('shape of whole datasets',np.shape(xtrain_wh), np.shape(ytrain_wh))"
   ]
  },
  {
   "cell_type": "code",
   "execution_count": 34,
   "metadata": {},
   "outputs": [
    {
     "name": "stdout",
     "output_type": "stream",
     "text": [
      "shape of whole datasets (28000, 28, 28, 1)\n"
     ]
    }
   ],
   "source": [
    "# Load the whole test dataset\n",
    "xtest = np.load(data_path+'/xtest.npy')\n",
    "# Expand dims for the test data\n",
    "xtest = np.expand_dims(xtest,axis=-1)\n",
    "print('shape of whole datasets',np.shape(xtest))"
   ]
  },
  {
   "cell_type": "markdown",
   "metadata": {},
   "source": [
    "Create Model for training"
   ]
  },
  {
   "cell_type": "code",
   "execution_count": 9,
   "metadata": {},
   "outputs": [],
   "source": [
    "def build_model(input_shape, kernel_list, learn_rate, output_shape):\n",
    "    \"\"\"\n",
    "    Build a convolutional neural network for image classification\n",
    "    \n",
    "    Input Args:\n",
    "    input shape: Shape of the input image provided. The input shape should be 28x28x1\n",
    "    kernel_list: List of kernel level information. Its a list of list containing per \n",
    "                    level number of kernels and the kernel shape of the model.\n",
    "    learn_rate: Learning rate of the optimizer\n",
    "    output_shape: Shape of the final layer of the model. 10 in our case\n",
    "    \n",
    "    Output Args:\n",
    "    model: Tensorflow model which is compiled\n",
    "    \"\"\"\n",
    "    def conv_block(num_kernels, kernel_shape, stride_shape,input_layer, layer_num):\n",
    "        \"\"\"\n",
    "        Create a convolution block which is a convolution layer followed by activation\n",
    "        \n",
    "        Input Args:\n",
    "        num_kernels: Number of kernels in the convolution layer\n",
    "        kernel_shape: Shape of the kernels in the convolution layer\n",
    "        stride_shape: Shape of the strides in the convolution layer\n",
    "        input_layer: Input layer connected to the block\n",
    "        layer_num: Layer number in the model\n",
    "        \n",
    "        Output Args:\n",
    "        out: Output Layer of the convolution block\n",
    "        \"\"\"\n",
    "        conv = layers.Conv2D(num_kernels, \n",
    "                                 kernel_shape, \n",
    "                                 padding='valid', \n",
    "                                 activation='relu',\n",
    "                                 strides=stride_shape,\n",
    "                                 name = 'conv'+str(layer_num))(input_layer)\n",
    "        bn = layers.BatchNormalization(name = 'batchnorm'+str(layer_num))(conv)\n",
    "        out = layers.MaxPool2D(pool_size=(3, 3), \n",
    "                             strides=(1, 1), \n",
    "                             name='maxpool'+str(layer_num),\n",
    "                             padding='same')(bn)\n",
    "        return out\n",
    "    \n",
    "    # Create convolution block\n",
    "    input_layer = layers.Input(shape=input_shape, name='input_layer')\n",
    "    # Connect input image to the first convolution block\n",
    "    x = conv_block(kernel_list[0][0], kernel_list[0][1], kernel_list[0][2],input_layer, 1)\n",
    "    # Connect rest of the block to each other\n",
    "    for i in range(1, len(kernel_list)):\n",
    "        kernel = kernel_list[i]\n",
    "        x = conv_block(kernel[0], kernel[1], kernel[2],x, i+1)\n",
    "    \n",
    "    # Connect Flatten layers and add output layer\n",
    "    flatten = layers.Flatten(name='flatten')(x)\n",
    "    dense1 = layers.Dense(50, name = 'dense1')(flatten)\n",
    "    out_layer = layers.Dense(output_shape, activation='softmax', name = 'dense2')(dense1)\n",
    "    \n",
    "    # Define input and outputs of the model\n",
    "    model = models.Model(input_layer, out_layer)\n",
    "    \n",
    "    # Compile the model\n",
    "    adam = optimizers.Adam(lr=learn_rate)\n",
    "    model.compile(optimizer=adam,loss='categorical_crossentropy',metrics=['accuracy'])\n",
    "    print(model.summary())\n",
    "    return model"
   ]
  },
  {
   "cell_type": "code",
   "execution_count": 61,
   "metadata": {},
   "outputs": [],
   "source": [
    "# Parameters and hyperparameters of the model\n",
    "output_shape = len(np.unique(ytrain))\n",
    "input_shape = np.shape(xtrain[0,:,:,:])\n",
    "kernel_list = [[32, (3,3), (1,1)],\n",
    "              [32, (3,3), (2,2)],\n",
    "                [32, (3,3), (1,1)],\n",
    "              [32, (3,3), (1,1)],\n",
    "              [64, (3,3), (1,1)],\n",
    "               [64, (3,3), (1,1)]]\n",
    "learn_rate = 5*10**-4\n",
    "num_iterr = 50\n",
    "batch_size = 32"
   ]
  },
  {
   "cell_type": "code",
   "execution_count": 62,
   "metadata": {},
   "outputs": [],
   "source": [
    "def train_model(xtrain, ylabel_tr, xval, ylabel_val, input_shape, kernel_list, learn_rate, output_shape, num_iterr, batch_size=32):\n",
    "    \"\"\"\n",
    "    Function to train model\n",
    "    \n",
    "    Input Args:\n",
    "    xtrain: Input images in numpy format\n",
    "    ylabel_tr: Input image labels\n",
    "    xval: Validation images as numpy format\n",
    "    ylabel_val: Validation image labels\n",
    "    input_shape: Shape of the input image provided. The input shape should be 28x28x1\n",
    "    kernel_list: List of kernel level information. Its a list of list containing per \n",
    "                    level number of kernels and the kernel shape of the model.\n",
    "    learn_rate: Learning rate of the optimizer\n",
    "    output_shape: Shape of the final layer of the model. 10 in our case\n",
    "    num_iterr: Number of epochs for training\n",
    "    batch_size: Number of batches of images per epoch\n",
    "    \n",
    "    Output Args:\n",
    "    models: Weights of the model at each step\n",
    "    loss_list: List of training loss\n",
    "    accuracy_list: List of training accuracy \n",
    "    val_loss_list: List of validation loss\n",
    "    val_acc_list: List of validation accuracy\n",
    "    \"\"\"\n",
    "    val_loss_list = []\n",
    "    val_acc_list = []\n",
    "    loss_list = []\n",
    "    accuracy_list = []\n",
    "    model_wt_dict = {}\n",
    "    # Initialize the model\n",
    "    model = build_model(input_shape, \n",
    "                        kernel_list, \n",
    "                        learn_rate, \n",
    "                        output_shape)\n",
    "    # Train the model\n",
    "    for i in range(num_iterr):\n",
    "        print('Epoch number:{0}/{1}'.format(i+1, num_iterr))\n",
    "        history = model.fit(xtrain, \n",
    "                            ylabel_tr, \n",
    "                            epochs=1, \n",
    "                            validation_data=(xval, ylabel_val),\n",
    "                            batch_size = batch_size)\n",
    "        # get the training and validation loss and accuracy\n",
    "        train_loss = history.history['loss']\n",
    "        train_acc = history.history['accuracy']\n",
    "        val_loss = history.history['val_loss']\n",
    "        val_acc = history.history['val_accuracy']\n",
    "        # Store all the metrics for training and validation samples\n",
    "        loss_list.append(train_loss)\n",
    "        accuracy_list.append(train_acc)\n",
    "        # Store the model weights, and history\n",
    "        model_weights = model.get_weights() \n",
    "        model_wt_dict[i] = model_weights\n",
    "        val_loss_list.append(val_loss)\n",
    "        val_acc_list.append(val_acc)\n",
    "        loss_list.append(train_loss)\n",
    "        accuracy_list.append(train_acc)\n",
    "    return model_wt_dict, loss_list, accuracy_list, val_loss_list, val_acc_list"
   ]
  },
  {
   "cell_type": "markdown",
   "metadata": {},
   "source": [
    "Perform model training"
   ]
  },
  {
   "cell_type": "code",
   "execution_count": 63,
   "metadata": {},
   "outputs": [
    {
     "name": "stdout",
     "output_type": "stream",
     "text": [
      "Model: \"model_4\"\n",
      "_________________________________________________________________\n",
      "Layer (type)                 Output Shape              Param #   \n",
      "=================================================================\n",
      "input_layer (InputLayer)     [(None, 28, 28, 1)]       0         \n",
      "_________________________________________________________________\n",
      "conv1 (Conv2D)               (None, 26, 26, 32)        320       \n",
      "_________________________________________________________________\n",
      "batchnorm1 (BatchNormalizati (None, 26, 26, 32)        128       \n",
      "_________________________________________________________________\n",
      "maxpool1 (MaxPooling2D)      (None, 26, 26, 32)        0         \n",
      "_________________________________________________________________\n",
      "conv2 (Conv2D)               (None, 12, 12, 32)        9248      \n",
      "_________________________________________________________________\n",
      "batchnorm2 (BatchNormalizati (None, 12, 12, 32)        128       \n",
      "_________________________________________________________________\n",
      "maxpool2 (MaxPooling2D)      (None, 12, 12, 32)        0         \n",
      "_________________________________________________________________\n",
      "conv3 (Conv2D)               (None, 10, 10, 32)        9248      \n",
      "_________________________________________________________________\n",
      "batchnorm3 (BatchNormalizati (None, 10, 10, 32)        128       \n",
      "_________________________________________________________________\n",
      "maxpool3 (MaxPooling2D)      (None, 10, 10, 32)        0         \n",
      "_________________________________________________________________\n",
      "conv4 (Conv2D)               (None, 8, 8, 32)          9248      \n",
      "_________________________________________________________________\n",
      "batchnorm4 (BatchNormalizati (None, 8, 8, 32)          128       \n",
      "_________________________________________________________________\n",
      "maxpool4 (MaxPooling2D)      (None, 8, 8, 32)          0         \n",
      "_________________________________________________________________\n",
      "conv5 (Conv2D)               (None, 6, 6, 64)          18496     \n",
      "_________________________________________________________________\n",
      "batchnorm5 (BatchNormalizati (None, 6, 6, 64)          256       \n",
      "_________________________________________________________________\n",
      "maxpool5 (MaxPooling2D)      (None, 6, 6, 64)          0         \n",
      "_________________________________________________________________\n",
      "conv6 (Conv2D)               (None, 4, 4, 64)          36928     \n",
      "_________________________________________________________________\n",
      "batchnorm6 (BatchNormalizati (None, 4, 4, 64)          256       \n",
      "_________________________________________________________________\n",
      "maxpool6 (MaxPooling2D)      (None, 4, 4, 64)          0         \n",
      "_________________________________________________________________\n",
      "flatten (Flatten)            (None, 1024)              0         \n",
      "_________________________________________________________________\n",
      "dense1 (Dense)               (None, 50)                51250     \n",
      "_________________________________________________________________\n",
      "dense2 (Dense)               (None, 10)                510       \n",
      "=================================================================\n",
      "Total params: 136,272\n",
      "Trainable params: 135,760\n",
      "Non-trainable params: 512\n",
      "_________________________________________________________________\n",
      "None\n",
      "Epoch number:1/50\n",
      "Train on 38000 samples, validate on 4000 samples\n",
      "19904/38000 [==============>...............] - ETA: 6s - loss: 0.2876 - accuracy: 0.9123"
     ]
    },
    {
     "ename": "KeyboardInterrupt",
     "evalue": "",
     "output_type": "error",
     "traceback": [
      "\u001b[0;31m---------------------------------------------------------------------------\u001b[0m",
      "\u001b[0;31mKeyboardInterrupt\u001b[0m                         Traceback (most recent call last)",
      "\u001b[0;32m<ipython-input-63-854b80e79860>\u001b[0m in \u001b[0;36m<module>\u001b[0;34m\u001b[0m\n\u001b[1;32m      8\u001b[0m                                                                             \u001b[0moutput_shape\u001b[0m\u001b[0;34m,\u001b[0m\u001b[0;34m\u001b[0m\u001b[0;34m\u001b[0m\u001b[0m\n\u001b[1;32m      9\u001b[0m                                                                             \u001b[0mnum_iterr\u001b[0m\u001b[0;34m,\u001b[0m\u001b[0;34m\u001b[0m\u001b[0;34m\u001b[0m\u001b[0m\n\u001b[0;32m---> 10\u001b[0;31m                                                                             batch_size)\n\u001b[0m",
      "\u001b[0;32m<ipython-input-62-db5689a0c9b1>\u001b[0m in \u001b[0;36mtrain_model\u001b[0;34m(xtrain, ylabel_tr, xval, ylabel_val, input_shape, kernel_list, learn_rate, output_shape, num_iterr, batch_size)\u001b[0m\n\u001b[1;32m     40\u001b[0m                             \u001b[0mepochs\u001b[0m\u001b[0;34m=\u001b[0m\u001b[0;36m1\u001b[0m\u001b[0;34m,\u001b[0m\u001b[0;34m\u001b[0m\u001b[0;34m\u001b[0m\u001b[0m\n\u001b[1;32m     41\u001b[0m                             \u001b[0mvalidation_data\u001b[0m\u001b[0;34m=\u001b[0m\u001b[0;34m(\u001b[0m\u001b[0mxval\u001b[0m\u001b[0;34m,\u001b[0m \u001b[0mylabel_val\u001b[0m\u001b[0;34m)\u001b[0m\u001b[0;34m,\u001b[0m\u001b[0;34m\u001b[0m\u001b[0;34m\u001b[0m\u001b[0m\n\u001b[0;32m---> 42\u001b[0;31m                             batch_size = batch_size)\n\u001b[0m\u001b[1;32m     43\u001b[0m         \u001b[0;31m# get the training and validation loss and accuracy\u001b[0m\u001b[0;34m\u001b[0m\u001b[0;34m\u001b[0m\u001b[0;34m\u001b[0m\u001b[0m\n\u001b[1;32m     44\u001b[0m         \u001b[0mtrain_loss\u001b[0m \u001b[0;34m=\u001b[0m \u001b[0mhistory\u001b[0m\u001b[0;34m.\u001b[0m\u001b[0mhistory\u001b[0m\u001b[0;34m[\u001b[0m\u001b[0;34m'loss'\u001b[0m\u001b[0;34m]\u001b[0m\u001b[0;34m\u001b[0m\u001b[0;34m\u001b[0m\u001b[0m\n",
      "\u001b[0;32m~/anaconda3/envs/tf_gpu/lib/python3.7/site-packages/tensorflow_core/python/keras/engine/training.py\u001b[0m in \u001b[0;36mfit\u001b[0;34m(self, x, y, batch_size, epochs, verbose, callbacks, validation_split, validation_data, shuffle, class_weight, sample_weight, initial_epoch, steps_per_epoch, validation_steps, validation_freq, max_queue_size, workers, use_multiprocessing, **kwargs)\u001b[0m\n\u001b[1;32m    817\u001b[0m         \u001b[0mmax_queue_size\u001b[0m\u001b[0;34m=\u001b[0m\u001b[0mmax_queue_size\u001b[0m\u001b[0;34m,\u001b[0m\u001b[0;34m\u001b[0m\u001b[0;34m\u001b[0m\u001b[0m\n\u001b[1;32m    818\u001b[0m         \u001b[0mworkers\u001b[0m\u001b[0;34m=\u001b[0m\u001b[0mworkers\u001b[0m\u001b[0;34m,\u001b[0m\u001b[0;34m\u001b[0m\u001b[0;34m\u001b[0m\u001b[0m\n\u001b[0;32m--> 819\u001b[0;31m         use_multiprocessing=use_multiprocessing)\n\u001b[0m\u001b[1;32m    820\u001b[0m \u001b[0;34m\u001b[0m\u001b[0m\n\u001b[1;32m    821\u001b[0m   def evaluate(self,\n",
      "\u001b[0;32m~/anaconda3/envs/tf_gpu/lib/python3.7/site-packages/tensorflow_core/python/keras/engine/training_v2.py\u001b[0m in \u001b[0;36mfit\u001b[0;34m(self, model, x, y, batch_size, epochs, verbose, callbacks, validation_split, validation_data, shuffle, class_weight, sample_weight, initial_epoch, steps_per_epoch, validation_steps, validation_freq, max_queue_size, workers, use_multiprocessing, **kwargs)\u001b[0m\n\u001b[1;32m    340\u001b[0m                 \u001b[0mmode\u001b[0m\u001b[0;34m=\u001b[0m\u001b[0mModeKeys\u001b[0m\u001b[0;34m.\u001b[0m\u001b[0mTRAIN\u001b[0m\u001b[0;34m,\u001b[0m\u001b[0;34m\u001b[0m\u001b[0;34m\u001b[0m\u001b[0m\n\u001b[1;32m    341\u001b[0m                 \u001b[0mtraining_context\u001b[0m\u001b[0;34m=\u001b[0m\u001b[0mtraining_context\u001b[0m\u001b[0;34m,\u001b[0m\u001b[0;34m\u001b[0m\u001b[0;34m\u001b[0m\u001b[0m\n\u001b[0;32m--> 342\u001b[0;31m                 total_epochs=epochs)\n\u001b[0m\u001b[1;32m    343\u001b[0m             \u001b[0mcbks\u001b[0m\u001b[0;34m.\u001b[0m\u001b[0mmake_logs\u001b[0m\u001b[0;34m(\u001b[0m\u001b[0mmodel\u001b[0m\u001b[0;34m,\u001b[0m \u001b[0mepoch_logs\u001b[0m\u001b[0;34m,\u001b[0m \u001b[0mtraining_result\u001b[0m\u001b[0;34m,\u001b[0m \u001b[0mModeKeys\u001b[0m\u001b[0;34m.\u001b[0m\u001b[0mTRAIN\u001b[0m\u001b[0;34m)\u001b[0m\u001b[0;34m\u001b[0m\u001b[0;34m\u001b[0m\u001b[0m\n\u001b[1;32m    344\u001b[0m \u001b[0;34m\u001b[0m\u001b[0m\n",
      "\u001b[0;32m~/anaconda3/envs/tf_gpu/lib/python3.7/site-packages/tensorflow_core/python/keras/engine/training_v2.py\u001b[0m in \u001b[0;36mrun_one_epoch\u001b[0;34m(model, iterator, execution_function, dataset_size, batch_size, strategy, steps_per_epoch, num_samples, mode, training_context, total_epochs)\u001b[0m\n\u001b[1;32m    124\u001b[0m       \u001b[0mcurrent_batch_size\u001b[0m \u001b[0;34m=\u001b[0m \u001b[0mnum_samples\u001b[0m \u001b[0;34m-\u001b[0m \u001b[0mstep\u001b[0m \u001b[0;34m*\u001b[0m \u001b[0mbatch_size\u001b[0m\u001b[0;34m\u001b[0m\u001b[0;34m\u001b[0m\u001b[0m\n\u001b[1;32m    125\u001b[0m     with training_context.on_batch(\n\u001b[0;32m--> 126\u001b[0;31m         step=step, mode=mode, size=current_batch_size) as batch_logs:\n\u001b[0m\u001b[1;32m    127\u001b[0m       \u001b[0;32mtry\u001b[0m\u001b[0;34m:\u001b[0m\u001b[0;34m\u001b[0m\u001b[0;34m\u001b[0m\u001b[0m\n\u001b[1;32m    128\u001b[0m         \u001b[0mbatch_outs\u001b[0m \u001b[0;34m=\u001b[0m \u001b[0mexecution_function\u001b[0m\u001b[0;34m(\u001b[0m\u001b[0miterator\u001b[0m\u001b[0;34m)\u001b[0m\u001b[0;34m\u001b[0m\u001b[0;34m\u001b[0m\u001b[0m\n",
      "\u001b[0;32m~/anaconda3/envs/tf_gpu/lib/python3.7/contextlib.py\u001b[0m in \u001b[0;36m__enter__\u001b[0;34m(self)\u001b[0m\n\u001b[1;32m    110\u001b[0m         \u001b[0;32mdel\u001b[0m \u001b[0mself\u001b[0m\u001b[0;34m.\u001b[0m\u001b[0margs\u001b[0m\u001b[0;34m,\u001b[0m \u001b[0mself\u001b[0m\u001b[0;34m.\u001b[0m\u001b[0mkwds\u001b[0m\u001b[0;34m,\u001b[0m \u001b[0mself\u001b[0m\u001b[0;34m.\u001b[0m\u001b[0mfunc\u001b[0m\u001b[0;34m\u001b[0m\u001b[0;34m\u001b[0m\u001b[0m\n\u001b[1;32m    111\u001b[0m         \u001b[0;32mtry\u001b[0m\u001b[0;34m:\u001b[0m\u001b[0;34m\u001b[0m\u001b[0;34m\u001b[0m\u001b[0m\n\u001b[0;32m--> 112\u001b[0;31m             \u001b[0;32mreturn\u001b[0m \u001b[0mnext\u001b[0m\u001b[0;34m(\u001b[0m\u001b[0mself\u001b[0m\u001b[0;34m.\u001b[0m\u001b[0mgen\u001b[0m\u001b[0;34m)\u001b[0m\u001b[0;34m\u001b[0m\u001b[0;34m\u001b[0m\u001b[0m\n\u001b[0m\u001b[1;32m    113\u001b[0m         \u001b[0;32mexcept\u001b[0m \u001b[0mStopIteration\u001b[0m\u001b[0;34m:\u001b[0m\u001b[0;34m\u001b[0m\u001b[0;34m\u001b[0m\u001b[0m\n\u001b[1;32m    114\u001b[0m             \u001b[0;32mraise\u001b[0m \u001b[0mRuntimeError\u001b[0m\u001b[0;34m(\u001b[0m\u001b[0;34m\"generator didn't yield\"\u001b[0m\u001b[0;34m)\u001b[0m \u001b[0;32mfrom\u001b[0m \u001b[0;32mNone\u001b[0m\u001b[0;34m\u001b[0m\u001b[0;34m\u001b[0m\u001b[0m\n",
      "\u001b[0;32m~/anaconda3/envs/tf_gpu/lib/python3.7/site-packages/tensorflow_core/python/keras/engine/training_v2.py\u001b[0m in \u001b[0;36mon_batch\u001b[0;34m(self, step, mode, size)\u001b[0m\n\u001b[1;32m    779\u001b[0m       \u001b[0mbatch_logs\u001b[0m \u001b[0;34m=\u001b[0m \u001b[0;34m{\u001b[0m\u001b[0;34m'batch'\u001b[0m\u001b[0;34m:\u001b[0m \u001b[0mstep\u001b[0m\u001b[0;34m,\u001b[0m \u001b[0;34m'size'\u001b[0m\u001b[0;34m:\u001b[0m \u001b[0msize\u001b[0m\u001b[0;34m}\u001b[0m\u001b[0;34m\u001b[0m\u001b[0;34m\u001b[0m\u001b[0m\n\u001b[1;32m    780\u001b[0m       self.callbacks._call_batch_hook(\n\u001b[0;32m--> 781\u001b[0;31m           mode, 'begin', step, batch_logs)\n\u001b[0m\u001b[1;32m    782\u001b[0m       \u001b[0mself\u001b[0m\u001b[0;34m.\u001b[0m\u001b[0mprogbar\u001b[0m\u001b[0;34m.\u001b[0m\u001b[0mon_batch_begin\u001b[0m\u001b[0;34m(\u001b[0m\u001b[0mstep\u001b[0m\u001b[0;34m,\u001b[0m \u001b[0mbatch_logs\u001b[0m\u001b[0;34m)\u001b[0m\u001b[0;34m\u001b[0m\u001b[0;34m\u001b[0m\u001b[0m\n\u001b[1;32m    783\u001b[0m       \u001b[0;32mtry\u001b[0m\u001b[0;34m:\u001b[0m\u001b[0;34m\u001b[0m\u001b[0;34m\u001b[0m\u001b[0m\n",
      "\u001b[0;32m~/anaconda3/envs/tf_gpu/lib/python3.7/site-packages/tensorflow_core/python/keras/callbacks.py\u001b[0m in \u001b[0;36m_call_batch_hook\u001b[0;34m(self, mode, hook, batch, logs)\u001b[0m\n\u001b[1;32m    240\u001b[0m     \u001b[0mself\u001b[0m\u001b[0;34m.\u001b[0m\u001b[0m_delta_ts\u001b[0m\u001b[0;34m[\u001b[0m\u001b[0mhook_name\u001b[0m\u001b[0;34m]\u001b[0m\u001b[0;34m.\u001b[0m\u001b[0mappend\u001b[0m\u001b[0;34m(\u001b[0m\u001b[0mtime\u001b[0m\u001b[0;34m.\u001b[0m\u001b[0mtime\u001b[0m\u001b[0;34m(\u001b[0m\u001b[0;34m)\u001b[0m \u001b[0;34m-\u001b[0m \u001b[0mt_before_callbacks\u001b[0m\u001b[0;34m)\u001b[0m\u001b[0;34m\u001b[0m\u001b[0;34m\u001b[0m\u001b[0m\n\u001b[1;32m    241\u001b[0m \u001b[0;34m\u001b[0m\u001b[0m\n\u001b[0;32m--> 242\u001b[0;31m     \u001b[0mdelta_t_median\u001b[0m \u001b[0;34m=\u001b[0m \u001b[0mnp\u001b[0m\u001b[0;34m.\u001b[0m\u001b[0mmedian\u001b[0m\u001b[0;34m(\u001b[0m\u001b[0mself\u001b[0m\u001b[0;34m.\u001b[0m\u001b[0m_delta_ts\u001b[0m\u001b[0;34m[\u001b[0m\u001b[0mhook_name\u001b[0m\u001b[0;34m]\u001b[0m\u001b[0;34m)\u001b[0m\u001b[0;34m\u001b[0m\u001b[0;34m\u001b[0m\u001b[0m\n\u001b[0m\u001b[1;32m    243\u001b[0m     if (self._delta_t_batch > 0. and\n\u001b[1;32m    244\u001b[0m         delta_t_median > 0.95 * self._delta_t_batch and delta_t_median > 0.1):\n",
      "\u001b[0;32m<__array_function__ internals>\u001b[0m in \u001b[0;36mmedian\u001b[0;34m(*args, **kwargs)\u001b[0m\n",
      "\u001b[0;32m~/anaconda3/envs/tf_gpu/lib/python3.7/site-packages/numpy/lib/function_base.py\u001b[0m in \u001b[0;36mmedian\u001b[0;34m(a, axis, out, overwrite_input, keepdims)\u001b[0m\n\u001b[1;32m   3493\u001b[0m     \"\"\"\n\u001b[1;32m   3494\u001b[0m     r, k = _ureduce(a, func=_median, axis=axis, out=out,\n\u001b[0;32m-> 3495\u001b[0;31m                     overwrite_input=overwrite_input)\n\u001b[0m\u001b[1;32m   3496\u001b[0m     \u001b[0;32mif\u001b[0m \u001b[0mkeepdims\u001b[0m\u001b[0;34m:\u001b[0m\u001b[0;34m\u001b[0m\u001b[0;34m\u001b[0m\u001b[0m\n\u001b[1;32m   3497\u001b[0m         \u001b[0;32mreturn\u001b[0m \u001b[0mr\u001b[0m\u001b[0;34m.\u001b[0m\u001b[0mreshape\u001b[0m\u001b[0;34m(\u001b[0m\u001b[0mk\u001b[0m\u001b[0;34m)\u001b[0m\u001b[0;34m\u001b[0m\u001b[0;34m\u001b[0m\u001b[0m\n",
      "\u001b[0;32m~/anaconda3/envs/tf_gpu/lib/python3.7/site-packages/numpy/lib/function_base.py\u001b[0m in \u001b[0;36m_ureduce\u001b[0;34m(a, func, **kwargs)\u001b[0m\n\u001b[1;32m   3401\u001b[0m         \u001b[0mkeepdim\u001b[0m \u001b[0;34m=\u001b[0m \u001b[0;34m(\u001b[0m\u001b[0;36m1\u001b[0m\u001b[0;34m,\u001b[0m\u001b[0;34m)\u001b[0m \u001b[0;34m*\u001b[0m \u001b[0ma\u001b[0m\u001b[0;34m.\u001b[0m\u001b[0mndim\u001b[0m\u001b[0;34m\u001b[0m\u001b[0;34m\u001b[0m\u001b[0m\n\u001b[1;32m   3402\u001b[0m \u001b[0;34m\u001b[0m\u001b[0m\n\u001b[0;32m-> 3403\u001b[0;31m     \u001b[0mr\u001b[0m \u001b[0;34m=\u001b[0m \u001b[0mfunc\u001b[0m\u001b[0;34m(\u001b[0m\u001b[0ma\u001b[0m\u001b[0;34m,\u001b[0m \u001b[0;34m**\u001b[0m\u001b[0mkwargs\u001b[0m\u001b[0;34m)\u001b[0m\u001b[0;34m\u001b[0m\u001b[0;34m\u001b[0m\u001b[0m\n\u001b[0m\u001b[1;32m   3404\u001b[0m     \u001b[0;32mreturn\u001b[0m \u001b[0mr\u001b[0m\u001b[0;34m,\u001b[0m \u001b[0mkeepdim\u001b[0m\u001b[0;34m\u001b[0m\u001b[0;34m\u001b[0m\u001b[0m\n\u001b[1;32m   3405\u001b[0m \u001b[0;34m\u001b[0m\u001b[0m\n",
      "\u001b[0;32m~/anaconda3/envs/tf_gpu/lib/python3.7/site-packages/numpy/lib/function_base.py\u001b[0m in \u001b[0;36m_median\u001b[0;34m(a, axis, out, overwrite_input)\u001b[0m\n\u001b[1;32m   3547\u001b[0m         \u001b[0;31m# warn and return nans like mean would\u001b[0m\u001b[0;34m\u001b[0m\u001b[0;34m\u001b[0m\u001b[0;34m\u001b[0m\u001b[0m\n\u001b[1;32m   3548\u001b[0m         \u001b[0mrout\u001b[0m \u001b[0;34m=\u001b[0m \u001b[0mmean\u001b[0m\u001b[0;34m(\u001b[0m\u001b[0mpart\u001b[0m\u001b[0;34m[\u001b[0m\u001b[0mindexer\u001b[0m\u001b[0;34m]\u001b[0m\u001b[0;34m,\u001b[0m \u001b[0maxis\u001b[0m\u001b[0;34m=\u001b[0m\u001b[0maxis\u001b[0m\u001b[0;34m,\u001b[0m \u001b[0mout\u001b[0m\u001b[0;34m=\u001b[0m\u001b[0mout\u001b[0m\u001b[0;34m)\u001b[0m\u001b[0;34m\u001b[0m\u001b[0;34m\u001b[0m\u001b[0m\n\u001b[0;32m-> 3549\u001b[0;31m         \u001b[0;32mreturn\u001b[0m \u001b[0mnp\u001b[0m\u001b[0;34m.\u001b[0m\u001b[0mlib\u001b[0m\u001b[0;34m.\u001b[0m\u001b[0mutils\u001b[0m\u001b[0;34m.\u001b[0m\u001b[0m_median_nancheck\u001b[0m\u001b[0;34m(\u001b[0m\u001b[0mpart\u001b[0m\u001b[0;34m,\u001b[0m \u001b[0mrout\u001b[0m\u001b[0;34m,\u001b[0m \u001b[0maxis\u001b[0m\u001b[0;34m,\u001b[0m \u001b[0mout\u001b[0m\u001b[0;34m)\u001b[0m\u001b[0;34m\u001b[0m\u001b[0;34m\u001b[0m\u001b[0m\n\u001b[0m\u001b[1;32m   3550\u001b[0m     \u001b[0;32melse\u001b[0m\u001b[0;34m:\u001b[0m\u001b[0;34m\u001b[0m\u001b[0;34m\u001b[0m\u001b[0m\n\u001b[1;32m   3551\u001b[0m         \u001b[0;31m# if there are no nans\u001b[0m\u001b[0;34m\u001b[0m\u001b[0;34m\u001b[0m\u001b[0;34m\u001b[0m\u001b[0m\n",
      "\u001b[0;32m~/anaconda3/envs/tf_gpu/lib/python3.7/site-packages/numpy/lib/utils.py\u001b[0m in \u001b[0;36m_median_nancheck\u001b[0;34m(data, result, axis, out)\u001b[0m\n\u001b[1;32m   1070\u001b[0m     \u001b[0;32mif\u001b[0m \u001b[0mdata\u001b[0m\u001b[0;34m.\u001b[0m\u001b[0msize\u001b[0m \u001b[0;34m==\u001b[0m \u001b[0;36m0\u001b[0m\u001b[0;34m:\u001b[0m\u001b[0;34m\u001b[0m\u001b[0;34m\u001b[0m\u001b[0m\n\u001b[1;32m   1071\u001b[0m         \u001b[0;32mreturn\u001b[0m \u001b[0mresult\u001b[0m\u001b[0;34m\u001b[0m\u001b[0;34m\u001b[0m\u001b[0m\n\u001b[0;32m-> 1072\u001b[0;31m     \u001b[0mdata\u001b[0m \u001b[0;34m=\u001b[0m \u001b[0mnp\u001b[0m\u001b[0;34m.\u001b[0m\u001b[0mmoveaxis\u001b[0m\u001b[0;34m(\u001b[0m\u001b[0mdata\u001b[0m\u001b[0;34m,\u001b[0m \u001b[0maxis\u001b[0m\u001b[0;34m,\u001b[0m \u001b[0;34m-\u001b[0m\u001b[0;36m1\u001b[0m\u001b[0;34m)\u001b[0m\u001b[0;34m\u001b[0m\u001b[0;34m\u001b[0m\u001b[0m\n\u001b[0m\u001b[1;32m   1073\u001b[0m     \u001b[0mn\u001b[0m \u001b[0;34m=\u001b[0m \u001b[0mnp\u001b[0m\u001b[0;34m.\u001b[0m\u001b[0misnan\u001b[0m\u001b[0;34m(\u001b[0m\u001b[0mdata\u001b[0m\u001b[0;34m[\u001b[0m\u001b[0;34m...\u001b[0m\u001b[0;34m,\u001b[0m \u001b[0;34m-\u001b[0m\u001b[0;36m1\u001b[0m\u001b[0;34m]\u001b[0m\u001b[0;34m)\u001b[0m\u001b[0;34m\u001b[0m\u001b[0;34m\u001b[0m\u001b[0m\n\u001b[1;32m   1074\u001b[0m     \u001b[0;31m# masked NaN values are ok\u001b[0m\u001b[0;34m\u001b[0m\u001b[0;34m\u001b[0m\u001b[0;34m\u001b[0m\u001b[0m\n",
      "\u001b[0;32m<__array_function__ internals>\u001b[0m in \u001b[0;36mmoveaxis\u001b[0;34m(*args, **kwargs)\u001b[0m\n",
      "\u001b[0;32m~/anaconda3/envs/tf_gpu/lib/python3.7/site-packages/numpy/core/numeric.py\u001b[0m in \u001b[0;36m_moveaxis_dispatcher\u001b[0;34m(a, source, destination)\u001b[0m\n\u001b[1;32m   1334\u001b[0m \u001b[0;34m\u001b[0m\u001b[0m\n\u001b[1;32m   1335\u001b[0m \u001b[0;34m\u001b[0m\u001b[0m\n\u001b[0;32m-> 1336\u001b[0;31m \u001b[0;32mdef\u001b[0m \u001b[0m_moveaxis_dispatcher\u001b[0m\u001b[0;34m(\u001b[0m\u001b[0ma\u001b[0m\u001b[0;34m,\u001b[0m \u001b[0msource\u001b[0m\u001b[0;34m,\u001b[0m \u001b[0mdestination\u001b[0m\u001b[0;34m)\u001b[0m\u001b[0;34m:\u001b[0m\u001b[0;34m\u001b[0m\u001b[0;34m\u001b[0m\u001b[0m\n\u001b[0m\u001b[1;32m   1337\u001b[0m     \u001b[0;32mreturn\u001b[0m \u001b[0;34m(\u001b[0m\u001b[0ma\u001b[0m\u001b[0;34m,\u001b[0m\u001b[0;34m)\u001b[0m\u001b[0;34m\u001b[0m\u001b[0;34m\u001b[0m\u001b[0m\n\u001b[1;32m   1338\u001b[0m \u001b[0;34m\u001b[0m\u001b[0m\n",
      "\u001b[0;31mKeyboardInterrupt\u001b[0m: "
     ]
    }
   ],
   "source": [
    "model_wt_dict, loss_list, accuracy_list, val_loss_list, val_acc_list = train_model(xtrain, \n",
    "                                                                            ylabel_tr,\n",
    "                                                                            xval, \n",
    "                                                                            ylabel_val, \n",
    "                                                                            input_shape, \n",
    "                                                                            kernel_list, \n",
    "                                                                            learn_rate, \n",
    "                                                                            output_shape,\n",
    "                                                                            num_iterr,\n",
    "                                                                            batch_size)"
   ]
  },
  {
   "cell_type": "code",
   "execution_count": 26,
   "metadata": {},
   "outputs": [
    {
     "data": {
      "image/png": "[encoded data removed]",
      "text/plain": [
       "<Figure size 432x288 with 1 Axes>"
      ]
     },
     "metadata": {
      "needs_background": "light"
     },
     "output_type": "display_data"
    }
   ],
   "source": [
    "plt.plot(accuracy_list, label='accuracy')\n",
    "plt.plot(val_acc_list, label='val_accuracy')\n",
    "plt.xlabel('Epoch')\n",
    "plt.ylabel('Accuracy')\n",
    "plt.ylim([0.7, 1])\n",
    "plt.legend(loc='best')\n",
    "plt.show()"
   ]
  },
  {
   "cell_type": "code",
   "execution_count": 27,
   "metadata": {},
   "outputs": [
    {
     "data": {
      "image/png": "[encoded data removed]",
      "text/plain": [
       "<Figure size 432x288 with 1 Axes>"
      ]
     },
     "metadata": {
      "needs_background": "light"
     },
     "output_type": "display_data"
    }
   ],
   "source": [
    "plt.plot(loss_list, label='loss')\n",
    "plt.plot(val_loss_list, label='val_loss')\n",
    "plt.xlabel('Epoch')\n",
    "plt.ylabel('Loss')\n",
    "plt.legend(loc='best')\n",
    "plt.show()"
   ]
  },
  {
   "cell_type": "code",
   "execution_count": 28,
   "metadata": {},
   "outputs": [
    {
     "name": "stdout",
     "output_type": "stream",
     "text": [
      "Best model is at 47th epoch\n"
     ]
    }
   ],
   "source": [
    "# Find model with the least validation loss\n",
    "index = np.argmin(val_loss_list)\n",
    "# Use that index to retrieve model weights\n",
    "model_wt = model_wt_dict[index]\n",
    "print('Best model is at {0}th epoch'.format(index))"
   ]
  },
  {
   "cell_type": "code",
   "execution_count": 29,
   "metadata": {},
   "outputs": [
    {
     "name": "stdout",
     "output_type": "stream",
     "text": [
      "Model: \"model_3\"\n",
      "_________________________________________________________________\n",
      "Layer (type)                 Output Shape              Param #   \n",
      "=================================================================\n",
      "input_layer (InputLayer)     [(None, 28, 28, 1)]       0         \n",
      "_________________________________________________________________\n",
      "conv1 (Conv2D)               (None, 26, 26, 32)        320       \n",
      "_________________________________________________________________\n",
      "batchnorm1 (BatchNormalizati (None, 26, 26, 32)        128       \n",
      "_________________________________________________________________\n",
      "maxpool1 (MaxPooling2D)      (None, 26, 26, 32)        0         \n",
      "_________________________________________________________________\n",
      "conv2 (Conv2D)               (None, 24, 24, 32)        9248      \n",
      "_________________________________________________________________\n",
      "batchnorm2 (BatchNormalizati (None, 24, 24, 32)        128       \n",
      "_________________________________________________________________\n",
      "maxpool2 (MaxPooling2D)      (None, 24, 24, 32)        0         \n",
      "_________________________________________________________________\n",
      "conv3 (Conv2D)               (None, 22, 22, 32)        9248      \n",
      "_________________________________________________________________\n",
      "batchnorm3 (BatchNormalizati (None, 22, 22, 32)        128       \n",
      "_________________________________________________________________\n",
      "maxpool3 (MaxPooling2D)      (None, 22, 22, 32)        0         \n",
      "_________________________________________________________________\n",
      "conv4 (Conv2D)               (None, 20, 20, 32)        9248      \n",
      "_________________________________________________________________\n",
      "batchnorm4 (BatchNormalizati (None, 20, 20, 32)        128       \n",
      "_________________________________________________________________\n",
      "maxpool4 (MaxPooling2D)      (None, 20, 20, 32)        0         \n",
      "_________________________________________________________________\n",
      "conv5 (Conv2D)               (None, 18, 18, 64)        18496     \n",
      "_________________________________________________________________\n",
      "batchnorm5 (BatchNormalizati (None, 18, 18, 64)        256       \n",
      "_________________________________________________________________\n",
      "maxpool5 (MaxPooling2D)      (None, 18, 18, 64)        0         \n",
      "_________________________________________________________________\n",
      "conv6 (Conv2D)               (None, 16, 16, 64)        36928     \n",
      "_________________________________________________________________\n",
      "batchnorm6 (BatchNormalizati (None, 16, 16, 64)        256       \n",
      "_________________________________________________________________\n",
      "maxpool6 (MaxPooling2D)      (None, 16, 16, 64)        0         \n",
      "_________________________________________________________________\n",
      "conv7 (Conv2D)               (None, 7, 7, 64)          36928     \n",
      "_________________________________________________________________\n",
      "batchnorm7 (BatchNormalizati (None, 7, 7, 64)          256       \n",
      "_________________________________________________________________\n",
      "maxpool7 (MaxPooling2D)      (None, 7, 7, 64)          0         \n",
      "_________________________________________________________________\n",
      "flatten (Flatten)            (None, 3136)              0         \n",
      "_________________________________________________________________\n",
      "dense1 (Dense)               (None, 50)                156850    \n",
      "_________________________________________________________________\n",
      "dense2 (Dense)               (None, 10)                510       \n",
      "=================================================================\n",
      "Total params: 279,056\n",
      "Trainable params: 278,416\n",
      "Non-trainable params: 640\n",
      "_________________________________________________________________\n",
      "None\n"
     ]
    }
   ],
   "source": [
    "# Load the model with weights\n",
    "model = build_model(input_shape, \n",
    "                        kernel_list, \n",
    "                        learn_rate, \n",
    "                        output_shape)\n",
    "model.set_weights(model_wt)"
   ]
  },
  {
   "cell_type": "markdown",
   "metadata": {},
   "source": [
    "Evaluate the model"
   ]
  },
  {
   "cell_type": "code",
   "execution_count": 30,
   "metadata": {},
   "outputs": [
    {
     "name": "stdout",
     "output_type": "stream",
     "text": [
      "4000/4000 - 2s - loss: 7.4007e-04 - accuracy: 0.9998\n",
      "\n",
      "Test accuracy = 99.98%\n"
     ]
    }
   ],
   "source": [
    "# Test accuray on the validation dataset\n",
    "test_loss, test_accuracy = model.evaluate(xval,  ylabel_val, verbose=2)\n",
    "\n",
    "print('\\nTest accuracy = {0:.2f}%'.format(test_accuracy*100.0))"
   ]
  },
  {
   "cell_type": "code",
   "execution_count": 31,
   "metadata": {},
   "outputs": [
    {
     "name": "stdout",
     "output_type": "stream",
     "text": [
      "42000/42000 - 8s - loss: 0.0063 - accuracy: 0.9989\n",
      "\n",
      "Train accuracy on whole dataset = 99.89%\n"
     ]
    }
   ],
   "source": [
    "# Test accuracy on the entire dataset\n",
    "train_wh_loss, train_wh_accuracy = model.evaluate(xtrain_wh,  ytrain_wh, verbose=2)\n",
    "\n",
    "print('\\nTrain accuracy on whole dataset = {0:.2f}%'.format(train_wh_accuracy*100.0))"
   ]
  },
  {
   "cell_type": "markdown",
   "metadata": {},
   "source": [
    "Save the model"
   ]
  },
  {
   "cell_type": "code",
   "execution_count": 32,
   "metadata": {},
   "outputs": [],
   "source": [
    "# Check if save path exists, if not then create one\n",
    "save_path = current_path + '/model' \n",
    "if not os.path.isdir(save_path):\n",
    "    os.makedirs(save_path)"
   ]
  },
  {
   "cell_type": "code",
   "execution_count": 59,
   "metadata": {},
   "outputs": [],
   "source": [
    "def create_submission(model, xtest, current_path):\n",
    "    \"\"\"\n",
    "    Create keggale submission csv. This also performs prediction on xtest\n",
    "    \n",
    "    Input Args:\n",
    "    model: Trained model\n",
    "    xtest: Numpy image of the test dataset\n",
    "    current_path: Path where submission file has to be created.\n",
    "                    It takes the previously stored sample submission file which you get \n",
    "                    from kaggle dataset\n",
    "    \"\"\"\n",
    "    # Predict test set labels\n",
    "    ypred = model.predict(xtest)\n",
    "    # Get labels for each row with maximum column value\n",
    "    ytest_label = np.argmax(ypred, axis=1)\n",
    "    # read the sample submission file \n",
    "    samp_submission_df = pd.read_csv(current_path+'/sample_submission.csv')\n",
    "    # add the the new ytest label \n",
    "    samp_submission_df.loc[:,'Label'] = ytest_label\n",
    "    # Save the file as submission \n",
    "    samp_submission_df.to_csv(current_path + '/submission.csv', index=False)"
   ]
  },
  {
   "cell_type": "code",
   "execution_count": 60,
   "metadata": {},
   "outputs": [],
   "source": [
    "# Save model if the accuracy on whole dataset is greater than 99.82 and also create test submission\n",
    "if round(train_wh_accuracy*100.0,3) > 99.82:\n",
    "    filename = save_path + '/model' + str(round(train_wh_accuracy*100.0,3))\n",
    "    model_json = model.to_json()\n",
    "    with open(filename + '.json', \"w\") as json_file:\n",
    "        json_file.write(model_json)\n",
    "\n",
    "    # Save weights of the model\n",
    "    model.save_weights(filename+'.h5')\n",
    "    # Create submission\n",
    "    create_submission(model, xtest, current_path)\n",
    "    "
   ]
  },
  {
   "cell_type": "code",
   "execution_count": null,
   "metadata": {},
   "outputs": [],
   "source": []
  }
 ],
 "metadata": {
  "kernelspec": {
   "display_name": "tf_gpu",
   "language": "python",
   "name": "tf_gpu"
  },
  "language_info": {
   "codemirror_mode": {
    "name": "ipython",
    "version": 3
   },
   "file_extension": ".py",
   "mimetype": "text/x-python",
   "name": "python",
   "nbconvert_exporter": "python",
   "pygments_lexer": "ipython3",
   "version": "3.7.6"
  }
 },
 "nbformat": 4,
 "nbformat_minor": 4
}
